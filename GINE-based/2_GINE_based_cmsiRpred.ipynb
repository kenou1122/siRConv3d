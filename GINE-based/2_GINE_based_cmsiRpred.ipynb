{
 "cells": [
  {
   "cell_type": "markdown",
   "id": "23fe10fc-8e14-4d66-93a8-5ee47f83102c",
   "metadata": {},
   "source": [
    "# GIN(E)-based-cmsiRpred (module A+B2+C)\n",
    "\n",
    "2-gin-v3.2-draw_0708-Copy1"
   ]
  },
  {
   "cell_type": "code",
   "execution_count": 1,
   "id": "c6feda08-eab3-4448-9e57-924ff44ff9c4",
   "metadata": {
    "tags": []
   },
   "outputs": [],
   "source": [
    "import time\n",
    "import copy\n",
    "import re\n",
    "import os\n",
    "from tqdm import tqdm\n",
    "\n",
    "import torch\n",
    "import torch.nn as nn\n",
    "import numpy as np\n",
    "import pandas as pd\n",
    "from torchinfo import summary\n",
    "from torch.utils.data import Dataset, DataLoader, Subset\n",
    "import torch.optim as optim\n",
    "from sklearn.metrics import precision_score, recall_score, mean_absolute_error\n",
    "from sklearn.model_selection import KFold\n",
    "\n",
    "BATCH_SIZE = 256"
   ]
  },
  {
   "cell_type": "code",
   "execution_count": 2,
   "id": "9bc252a1-da86-4d0d-8086-90db1de0247b",
   "metadata": {},
   "outputs": [],
   "source": [
    "from torch_geometric.data import Data\n",
    "from torch_geometric.loader import DataLoader as PyG_DataLoader\n",
    "import torch.nn.functional as F\n",
    "from torch_geometric.nn import GINEConv,global_add_pool\n",
    "import matplotlib.pyplot as plt\n",
    "\n",
    "import networkx as nx"
   ]
  },
  {
   "cell_type": "markdown",
   "id": "708b184c-2369-4218-9ba1-c8368dc722f7",
   "metadata": {},
   "source": [
    "## Load data"
   ]
  },
  {
   "cell_type": "code",
   "execution_count": 3,
   "id": "108e9e80-6084-4914-bcd8-eb4634dd0709",
   "metadata": {},
   "outputs": [],
   "source": [
    "df_structured_encoded = pd.read_pickle('/home/ken/MyStorage/siRNA_2503/Data/df_structured_encoded_0409.pkl')"
   ]
  },
  {
   "cell_type": "code",
   "execution_count": 4,
   "id": "31143a1c-8689-48b1-b329-529bf26cae1f",
   "metadata": {},
   "outputs": [
    {
     "name": "stdout",
     "output_type": "stream",
     "text": [
      "(20626, 165) (2568, 165) (2588, 165)\n"
     ]
    }
   ],
   "source": [
    "df_structured_encoded_iid_trvl = df_structured_encoded[df_structured_encoded['dataset_usage']=='IID_trvl'].sample(frac=1)\n",
    "df_structured_encoded_iid_test = df_structured_encoded[df_structured_encoded['dataset_usage']=='IID_test']\n",
    "df_structured_encoded_ood_test = df_structured_encoded[df_structured_encoded['dataset_usage']=='OOD_test']\n",
    "print(df_structured_encoded_iid_trvl.shape,df_structured_encoded_iid_test.shape,df_structured_encoded_ood_test.shape)"
   ]
  },
  {
   "cell_type": "markdown",
   "id": "00b46f0f-0311-4db5-ab8e-7fe09cca334e",
   "metadata": {
    "tags": []
   },
   "source": [
    "## Define the graph representation of cm-siRNA data"
   ]
  },
  {
   "cell_type": "code",
   "execution_count": 5,
   "id": "b54a06f3-7e08-4bcf-8e5e-a7fe69c4de2e",
   "metadata": {},
   "outputs": [],
   "source": [
    "TRVL_sense_len_list = list(df_structured_encoded_iid_trvl['siRNA_sense_seq'].str.len())\n",
    "TRVL_antis_len_list = list(df_structured_encoded_iid_trvl['siRNA_antisense_seq'].str.len())\n",
    "\n",
    "TEST_OOD_sense_len_list = list(df_structured_encoded_ood_test['siRNA_sense_seq'].str.len())\n",
    "TEST_OOD_antis_len_list = list(df_structured_encoded_ood_test['siRNA_antisense_seq'].str.len())\n",
    "\n",
    "TEST_IID_sense_len_list = list(df_structured_encoded_iid_test['siRNA_sense_seq'].str.len())\n",
    "TEST_IID_antis_len_list = list(df_structured_encoded_iid_test['siRNA_antisense_seq'].str.len())"
   ]
  },
  {
   "cell_type": "markdown",
   "id": "2412143a-c8d2-40d6-a3ca-8890db1a7236",
   "metadata": {},
   "source": [
    "---"
   ]
  },
  {
   "cell_type": "markdown",
   "id": "00cb4633-d9ff-4db9-b191-cb150b0cabd2",
   "metadata": {
    "tags": []
   },
   "source": [
    "### edges"
   ]
  },
  {
   "cell_type": "code",
   "execution_count": 6,
   "id": "8144ab83-3f3a-42d6-b6b9-51c17763e32a",
   "metadata": {},
   "outputs": [],
   "source": [
    "def pp_mtx_2_edge_info(np_mtx_pp): # for 1_v3 output dataset df_structured_encoded_0326\n",
    "    np_mtx_pp_eye = np.eye(np_mtx_pp.shape[1]) + np.eye(np_mtx_pp.shape[1],k=1) + np_mtx_pp # primary structure and self-loop\n",
    "    np_adjmtx = np_mtx_pp_eye + np_mtx_pp_eye.T - np.diag(np_mtx_pp_eye.diagonal())\n",
    "\n",
    "    tnsr_edges = torch.tensor(np_adjmtx).nonzero().t() # adjacent matrix to edge list\n",
    "    tnsr_eweight = torch.tensor(np_adjmtx)[tnsr_edges[0],tnsr_edges[1]] # edge weight\n",
    "    \n",
    "    return np_adjmtx,tnsr_edges,tnsr_eweight\n",
    "\n",
    "def get_edge_info_v2(df_mtx_pp): # df_structured_encoded[['mtx_pp_sense']]\n",
    "    df_edge_info = pd.DataFrame()\n",
    "    df_edge_info[['adjmtx','edges','eweight']] = df_mtx_pp.apply(pp_mtx_2_edge_info).apply(pd.Series)\n",
    "    ls_edges = list(df_edge_info['edges'])\n",
    "    ls_eweight = list(df_edge_info['eweight'])\n",
    "    return {'ls_edges':ls_edges,'ls_eweight':ls_eweight}"
   ]
  },
  {
   "cell_type": "code",
   "execution_count": 7,
   "id": "7698551c-16e0-4a42-82e6-015a8e5469b0",
   "metadata": {},
   "outputs": [],
   "source": [
    "# Secondary structure\n",
    "\n",
    "edge_info_iid_test_sense = get_edge_info_v2(df_structured_encoded_iid_test['mtx_pp_sense'])\n",
    "edge_info_iid_test_antis = get_edge_info_v2(df_structured_encoded_iid_test['mtx_pp_antis'])\n",
    "\n",
    "edge_info_ood_test_sense = get_edge_info_v2(df_structured_encoded_ood_test['mtx_pp_sense'])\n",
    "edge_info_ood_test_antis = get_edge_info_v2(df_structured_encoded_ood_test['mtx_pp_antis'])\n",
    "\n",
    "edge_info_trvl_sense = get_edge_info_v2(df_structured_encoded_iid_trvl['mtx_pp_sense'])\n",
    "edge_info_trvl_antis = get_edge_info_v2(df_structured_encoded_iid_trvl['mtx_pp_antis'])"
   ]
  },
  {
   "cell_type": "code",
   "execution_count": 8,
   "id": "130c79c1-eb91-4c2a-aeea-48cda4531ad7",
   "metadata": {
    "tags": []
   },
   "outputs": [],
   "source": [
    "# \"Full\" adjacent matrix：all edges weighted 1\n",
    "\n",
    "def get_edge_info_all1_v2(df_str_enc,sn_or_an):\n",
    "    ls_edges = []\n",
    "    ls_eweight = []\n",
    "    for i in range(df_str_enc.shape[0]):\n",
    "        adjmtx_shape = df_str_enc.iloc[i]['mtx_pp_'+sn_or_an].shape\n",
    "        np_adjmtx = np.ones(adjmtx_shape)\n",
    "        tnsr_edges = torch.tensor(np_adjmtx).nonzero().t()\n",
    "        tnsr_eweight = torch.tensor(np_adjmtx)[tnsr_edges[0],tnsr_edges[1]]\n",
    "        ls_edges.append(tnsr_edges)\n",
    "        ls_eweight.append(tnsr_eweight)\n",
    "    return {'ls_edges':ls_edges,'ls_eweight':ls_eweight}\n",
    "\n",
    "edge_info_all1_iid_test_sense = get_edge_info_all1_v2(df_structured_encoded_iid_test,'sense')\n",
    "edge_info_all1_iid_test_antis = get_edge_info_all1_v2(df_structured_encoded_iid_test,'antis')\n",
    "\n",
    "edge_info_all1_ood_test_sense = get_edge_info_all1_v2(df_structured_encoded_ood_test,'sense')\n",
    "edge_info_all1_ood_test_antis = get_edge_info_all1_v2(df_structured_encoded_ood_test,'antis')\n",
    "\n",
    "edge_info_all1_trvl_sense = get_edge_info_all1_v2(df_structured_encoded_iid_trvl,'sense')\n",
    "edge_info_all1_trvl_antis = get_edge_info_all1_v2(df_structured_encoded_iid_trvl,'antis')"
   ]
  },
  {
   "cell_type": "code",
   "execution_count": 9,
   "id": "4206da8c-8e9f-4f48-baf8-171d29d59fdd",
   "metadata": {
    "tags": []
   },
   "outputs": [],
   "source": [
    "# \"Primary\" adjacent matrix: primary structure only\n",
    "\n",
    "edge_info_str1_iid_test_sense = get_edge_info_v2(df_structured_encoded_iid_test['mtx_pp_sense'].apply(lambda x: np.zeros_like(x)))\n",
    "edge_info_str1_iid_test_antis = get_edge_info_v2(df_structured_encoded_iid_test['mtx_pp_antis'].apply(lambda x: np.zeros_like(x)))\n",
    "\n",
    "edge_info_str1_ood_test_sense = get_edge_info_v2(df_structured_encoded_ood_test['mtx_pp_sense'].apply(lambda x: np.zeros_like(x)))\n",
    "edge_info_str1_ood_test_antis = get_edge_info_v2(df_structured_encoded_ood_test['mtx_pp_antis'].apply(lambda x: np.zeros_like(x)))\n",
    "\n",
    "edge_info_str1_trvl_sense = get_edge_info_v2(df_structured_encoded_iid_trvl['mtx_pp_sense'].apply(lambda x: np.zeros_like(x)))\n",
    "edge_info_str1_trvl_antis = get_edge_info_v2(df_structured_encoded_iid_trvl['mtx_pp_antis'].apply(lambda x: np.zeros_like(x)))"
   ]
  },
  {
   "cell_type": "code",
   "execution_count": 10,
   "id": "99bebef1-46c4-48de-806c-d5873a9fc3f7",
   "metadata": {
    "tags": []
   },
   "outputs": [],
   "source": [
    "# \"Null\" adjacent matrix: no edges\n",
    "\n",
    "edges_null = torch.tensor([[],[]])\n",
    "eweights_null = torch.tensor([])\n",
    "\n",
    "edge_info_none_iid_test_sense = {'ls_edges' : [edges_null] * df_structured_encoded_iid_test.shape[0],\n",
    "                                 'ls_eweight' : [eweights_null] * df_structured_encoded_iid_test.shape[0]}\n",
    "edge_info_none_iid_test_antis = {'ls_edges' : [edges_null] * df_structured_encoded_iid_test.shape[0],\n",
    "                                 'ls_eweight' : [eweights_null] * df_structured_encoded_iid_test.shape[0]}\n",
    "\n",
    "edge_info_none_ood_test_sense = {'ls_edges' : [edges_null] * df_structured_encoded_ood_test.shape[0],\n",
    "                                 'ls_eweight' : [eweights_null] * df_structured_encoded_ood_test.shape[0]}\n",
    "edge_info_none_ood_test_antis = {'ls_edges' : [edges_null] * df_structured_encoded_ood_test.shape[0],\n",
    "                                 'ls_eweight' : [eweights_null] * df_structured_encoded_ood_test.shape[0]}\n",
    "\n",
    "edge_info_none_trvl_sense = {'ls_edges' : [edges_null] * df_structured_encoded_iid_trvl.shape[0],\n",
    "                             'ls_eweight' : [eweights_null] * df_structured_encoded_iid_trvl.shape[0]}\n",
    "edge_info_none_trvl_antis = {'ls_edges' : [edges_null] * df_structured_encoded_iid_trvl.shape[0],\n",
    "                             'ls_eweight' : [eweights_null] * df_structured_encoded_iid_trvl.shape[0]}"
   ]
  },
  {
   "cell_type": "markdown",
   "id": "198c0009-6d89-49b4-acf5-233b5b884f67",
   "metadata": {
    "tags": []
   },
   "source": [
    "### nodes"
   ]
  },
  {
   "cell_type": "code",
   "execution_count": 11,
   "id": "eed316ac-e3aa-4350-a00d-e01212b1f96a",
   "metadata": {},
   "outputs": [],
   "source": [
    "def get_nt_strtype_vec(dot_bracket,SEQ_MAX_LEN=28):\n",
    "    import forgi.graph.bulge_graph as fgb\n",
    "    bg = fgb.BulgeGraph.from_dotbracket(dot_bracket)\n",
    "    elements_strcode = bg.to_element_string()\n",
    "    map_dict = {'P':7,'s':0,'h':1,'i':2,'m':3,'f':4,'t':5}\n",
    "    elements_numcode = list(map(lambda x:map_dict[x],list(elements_strcode)))\n",
    "    return torch.tensor(elements_numcode)\n",
    "    \n",
    "def str_num_2_tnsr_int(num_str):\n",
    "    ls_num = list(num_str)\n",
    "    ls_num_int =  list(map(int,ls_num))\n",
    "    return torch.tensor(ls_num_int)\n",
    "\n",
    "def get_node_ftr_v2(df_structured_encoded):\n",
    "    node_ftr = {}\n",
    "    label_tensor = torch.tensor(list(df_structured_encoded['mRNA_remaining_pct']))\n",
    "    node_ftr['label_tensor'] = list(label_tensor.reshape([len(label_tensor),1]).to(torch.float32))\n",
    "    ls_seq_sense_index = df_structured_encoded['seq_agct_int_sense'].apply(str_num_2_tnsr_int).apply(lambda x: torch.flip(x,dims=[0])).to_list()\n",
    "    ls_seq_antis_index = df_structured_encoded['seq_agct_int_anti'].apply(str_num_2_tnsr_int).to_list()\n",
    "    ls_modi_sense_index = df_structured_encoded['seq_modi_int_sense'].apply(str_num_2_tnsr_int).apply(lambda x: torch.flip(x,dims=[0])).to_list()\n",
    "    ls_modi_antis_index = df_structured_encoded['seq_modi_int_anti'].apply(str_num_2_tnsr_int).to_list()\n",
    "    ls_struct_sense_index = df_structured_encoded['dp_MEA_sense'].apply(get_nt_strtype_vec).to_list()\n",
    "    ls_struct_antis_index = df_structured_encoded['dp_MEA_antis'].apply(get_nt_strtype_vec).to_list()\n",
    "    \n",
    "    ls_ftr_sense = list(zip(ls_seq_sense_index,ls_modi_sense_index,ls_struct_sense_index))\n",
    "    node_ftr['ls_ftr_sense'] = list(map(lambda x: torch.transpose(torch.stack(x),0,1),ls_ftr_sense))\n",
    "    ls_ftr_antis = list(zip(ls_seq_antis_index,ls_modi_antis_index,ls_struct_antis_index))\n",
    "    node_ftr['ls_ftr_antis'] = list(map(lambda x: torch.transpose(torch.stack(x),0,1),ls_ftr_antis))\n",
    "    \n",
    "    return node_ftr"
   ]
  },
  {
   "cell_type": "code",
   "execution_count": 12,
   "id": "55351237-de0f-402d-975f-1b8e73131dfb",
   "metadata": {},
   "outputs": [],
   "source": [
    "node_ftr_iid_test = get_node_ftr_v2(df_structured_encoded_iid_test)\n",
    "node_ftr_ood_test = get_node_ftr_v2(df_structured_encoded_ood_test)\n",
    "node_ftr_trvl = get_node_ftr_v2(df_structured_encoded_iid_trvl)"
   ]
  },
  {
   "cell_type": "markdown",
   "id": "9ab271a5-ada4-48a1-8d65-ad92d67e767b",
   "metadata": {
    "tags": []
   },
   "source": [
    "## Transform data into graph"
   ]
  },
  {
   "cell_type": "code",
   "execution_count": 13,
   "id": "b4ca1e82-22d6-483a-b4ae-1505552fef28",
   "metadata": {
    "tags": []
   },
   "outputs": [],
   "source": [
    "'''\n",
    "Params Example for TRVL\n",
    "    ftrmtx = TRVL_node_ftr['sense_node_ftr']\n",
    "    edgls = TRVL_edge_info['sense_edges']\n",
    "    eweightls = TRVL_edge_info['sense_eweights']\n",
    "    g_index_ls = trvl_index\n",
    "'''\n",
    "\n",
    "def get_graph_ls(ftrmtx,edgels,eweightls,g_index_ls):\n",
    "    if len(ftrmtx)!=len(g_index_ls) or len(g_index_ls)!=len(edgels):\n",
    "        raise Exception('Graph numbers are not match between ftrmtx, edgels and g_index_ls')\n",
    "    graph_ls = []\n",
    "    for i in range(len(g_index_ls)):\n",
    "        data = Data(x=ftrmtx[i],\n",
    "                    edge_index=edgels[i].to(torch.long),\n",
    "                    edge_attr=eweightls[i],\n",
    "                    g_id=g_index_ls[i])\n",
    "        graph_ls.append(data)\n",
    "    return graph_ls"
   ]
  },
  {
   "cell_type": "markdown",
   "id": "815f36b9-d216-465c-a468-5ff17577c905",
   "metadata": {
    "tags": []
   },
   "source": [
    "#### Complete"
   ]
  },
  {
   "cell_type": "code",
   "execution_count": 14,
   "id": "9cf06132-ada9-4e73-bc1a-4727d3a3ef04",
   "metadata": {
    "tags": []
   },
   "outputs": [],
   "source": [
    "TRVL_sense_glist = get_graph_ls(node_ftr_trvl['ls_ftr_sense'],\n",
    "                                edge_info_trvl_sense['ls_edges'],\n",
    "                                edge_info_trvl_sense['ls_eweight'],\n",
    "                                list(df_structured_encoded_iid_trvl.index))\n",
    "TRVL_antis_glist = get_graph_ls(node_ftr_trvl['ls_ftr_antis'],\n",
    "                                edge_info_trvl_antis['ls_edges'],\n",
    "                                edge_info_trvl_antis['ls_eweight'],\n",
    "                                list(df_structured_encoded_iid_trvl.index))\n",
    "\n",
    "TEST_IID_sense_glist = get_graph_ls(node_ftr_iid_test['ls_ftr_sense'],\n",
    "                                edge_info_iid_test_sense['ls_edges'],\n",
    "                                edge_info_iid_test_sense['ls_eweight'],\n",
    "                                list(df_structured_encoded_iid_test.index))\n",
    "TEST_IID_antis_glist = get_graph_ls(node_ftr_iid_test['ls_ftr_antis'],\n",
    "                                edge_info_iid_test_antis['ls_edges'],\n",
    "                                edge_info_iid_test_antis['ls_eweight'],\n",
    "                                list(df_structured_encoded_iid_test.index))\n",
    "\n",
    "TEST_OOD_sense_glist = get_graph_ls(node_ftr_ood_test['ls_ftr_sense'],\n",
    "                                edge_info_ood_test_sense['ls_edges'],\n",
    "                                edge_info_ood_test_sense['ls_eweight'],\n",
    "                                list(df_structured_encoded_ood_test.index))\n",
    "TEST_OOD_antis_glist = get_graph_ls(node_ftr_ood_test['ls_ftr_antis'],\n",
    "                                edge_info_ood_test_antis['ls_edges'],\n",
    "                                edge_info_ood_test_antis['ls_eweight'],\n",
    "                                list(df_structured_encoded_ood_test.index))"
   ]
  },
  {
   "cell_type": "markdown",
   "id": "004e91d0-904c-44cb-a9ea-86b84edc3d7e",
   "metadata": {
    "tags": []
   },
   "source": [
    "#### Full"
   ]
  },
  {
   "cell_type": "code",
   "execution_count": 15,
   "id": "a6c52536-dc86-40ba-81fa-f930269aeaec",
   "metadata": {
    "tags": []
   },
   "outputs": [],
   "source": [
    "TRVL_sense_glist_all1 = get_graph_ls(node_ftr_trvl['ls_ftr_sense'],\n",
    "                                edge_info_all1_trvl_sense['ls_edges'],\n",
    "                                edge_info_all1_trvl_sense['ls_eweight'],\n",
    "                                list(df_structured_encoded_iid_trvl.index))\n",
    "TRVL_antis_glist_all1 = get_graph_ls(node_ftr_trvl['ls_ftr_antis'],\n",
    "                                edge_info_all1_trvl_antis['ls_edges'],\n",
    "                                edge_info_all1_trvl_antis['ls_eweight'],\n",
    "                                list(df_structured_encoded_iid_trvl.index))\n",
    "\n",
    "TEST_IID_sense_glist_all1 = get_graph_ls(node_ftr_iid_test['ls_ftr_sense'],\n",
    "                                edge_info_all1_iid_test_sense['ls_edges'],\n",
    "                                edge_info_all1_iid_test_sense['ls_eweight'],\n",
    "                                list(df_structured_encoded_iid_test.index))\n",
    "TEST_IID_antis_glist_all1 = get_graph_ls(node_ftr_iid_test['ls_ftr_antis'],\n",
    "                                edge_info_all1_iid_test_antis['ls_edges'],\n",
    "                                edge_info_all1_iid_test_antis['ls_eweight'],\n",
    "                                list(df_structured_encoded_iid_test.index))\n",
    "\n",
    "TEST_OOD_sense_glist_all1 = get_graph_ls(node_ftr_ood_test['ls_ftr_sense'],\n",
    "                                edge_info_all1_ood_test_sense['ls_edges'],\n",
    "                                edge_info_all1_ood_test_sense['ls_eweight'],\n",
    "                                list(df_structured_encoded_ood_test.index))\n",
    "TEST_OOD_antis_glist_all1 = get_graph_ls(node_ftr_ood_test['ls_ftr_antis'],\n",
    "                                edge_info_all1_ood_test_antis['ls_edges'],\n",
    "                                edge_info_all1_ood_test_antis['ls_eweight'],\n",
    "                                list(df_structured_encoded_ood_test.index))"
   ]
  },
  {
   "cell_type": "markdown",
   "id": "e43459e8-d93f-47bd-a81a-b5388747fd6a",
   "metadata": {
    "tags": []
   },
   "source": [
    "#### Primary"
   ]
  },
  {
   "cell_type": "code",
   "execution_count": 16,
   "id": "055ab473-4c04-4f20-b6a8-af5f20117fd1",
   "metadata": {
    "tags": []
   },
   "outputs": [],
   "source": [
    "TRVL_sense_glist_str1 = get_graph_ls(node_ftr_trvl['ls_ftr_sense'],\n",
    "                                edge_info_str1_trvl_sense['ls_edges'],\n",
    "                                edge_info_str1_trvl_sense['ls_eweight'],\n",
    "                                list(df_structured_encoded_iid_trvl.index))\n",
    "TRVL_antis_glist_str1 = get_graph_ls(node_ftr_trvl['ls_ftr_antis'],\n",
    "                                edge_info_str1_trvl_antis['ls_edges'],\n",
    "                                edge_info_str1_trvl_antis['ls_eweight'],\n",
    "                                list(df_structured_encoded_iid_trvl.index))\n",
    "\n",
    "TEST_IID_sense_glist_str1 = get_graph_ls(node_ftr_iid_test['ls_ftr_sense'],\n",
    "                                edge_info_str1_iid_test_sense['ls_edges'],\n",
    "                                edge_info_str1_iid_test_sense['ls_eweight'],\n",
    "                                list(df_structured_encoded_iid_test.index))\n",
    "TEST_IID_antis_glist_str1 = get_graph_ls(node_ftr_iid_test['ls_ftr_antis'],\n",
    "                                edge_info_str1_iid_test_antis['ls_edges'],\n",
    "                                edge_info_str1_iid_test_antis['ls_eweight'],\n",
    "                                list(df_structured_encoded_iid_test.index))\n",
    "\n",
    "TEST_OOD_sense_glist_str1 = get_graph_ls(node_ftr_ood_test['ls_ftr_sense'],\n",
    "                                edge_info_str1_ood_test_sense['ls_edges'],\n",
    "                                edge_info_str1_ood_test_sense['ls_eweight'],\n",
    "                                list(df_structured_encoded_ood_test.index))\n",
    "TEST_OOD_antis_glist_str1 = get_graph_ls(node_ftr_ood_test['ls_ftr_antis'],\n",
    "                                edge_info_str1_ood_test_antis['ls_edges'],\n",
    "                                edge_info_str1_ood_test_antis['ls_eweight'],\n",
    "                                list(df_structured_encoded_ood_test.index))"
   ]
  },
  {
   "cell_type": "markdown",
   "id": "95cc1ac8-f9a9-4340-ab90-31ee3dedb385",
   "metadata": {
    "tags": []
   },
   "source": [
    "#### Null"
   ]
  },
  {
   "cell_type": "code",
   "execution_count": 17,
   "id": "9059d5ab-66a8-4657-b90b-4b3773e8076b",
   "metadata": {
    "tags": []
   },
   "outputs": [],
   "source": [
    "TRVL_sense_glist_none = get_graph_ls(node_ftr_trvl['ls_ftr_sense'],\n",
    "                                edge_info_none_trvl_sense['ls_edges'],\n",
    "                                edge_info_none_trvl_sense['ls_eweight'],\n",
    "                                list(df_structured_encoded_iid_trvl.index))\n",
    "TRVL_antis_glist_none = get_graph_ls(node_ftr_trvl['ls_ftr_antis'],\n",
    "                                edge_info_none_trvl_antis['ls_edges'],\n",
    "                                edge_info_none_trvl_antis['ls_eweight'],\n",
    "                                list(df_structured_encoded_iid_trvl.index))\n",
    "\n",
    "TEST_IID_sense_glist_none = get_graph_ls(node_ftr_iid_test['ls_ftr_sense'],\n",
    "                                edge_info_none_iid_test_sense['ls_edges'],\n",
    "                                edge_info_none_iid_test_sense['ls_eweight'],\n",
    "                                list(df_structured_encoded_iid_test.index))\n",
    "TEST_IID_antis_glist_none = get_graph_ls(node_ftr_iid_test['ls_ftr_antis'],\n",
    "                                edge_info_none_iid_test_antis['ls_edges'],\n",
    "                                edge_info_none_iid_test_antis['ls_eweight'],\n",
    "                                list(df_structured_encoded_iid_test.index))\n",
    "\n",
    "TEST_OOD_sense_glist_none = get_graph_ls(node_ftr_ood_test['ls_ftr_sense'],\n",
    "                                edge_info_none_ood_test_sense['ls_edges'],\n",
    "                                edge_info_none_ood_test_sense['ls_eweight'],\n",
    "                                list(df_structured_encoded_ood_test.index))\n",
    "TEST_OOD_antis_glist_none = get_graph_ls(node_ftr_ood_test['ls_ftr_antis'],\n",
    "                                edge_info_none_ood_test_antis['ls_edges'],\n",
    "                                edge_info_none_ood_test_antis['ls_eweight'],\n",
    "                                list(df_structured_encoded_ood_test.index))"
   ]
  },
  {
   "cell_type": "markdown",
   "id": "bda947c3-dd35-4f8e-b90f-6e3a79b9644f",
   "metadata": {
    "tags": []
   },
   "source": [
    "### Experimental context"
   ]
  },
  {
   "cell_type": "code",
   "execution_count": 18,
   "id": "6a781c3c-80c4-4a4b-8a10-ab22a1a83d9a",
   "metadata": {},
   "outputs": [],
   "source": [
    "class NonGraph_dataset(Dataset):\n",
    "    def __init__(self, df_structured_encoded):  \n",
    "        self.g_id = list(df_structured_encoded.index)\n",
    "        df_tabular_encoded = df_structured_encoded.loc[:,df_structured_encoded.columns.str.contains(r'!\\w+!')]\n",
    "        self.features_tensor = torch.tensor(df_tabular_encoded.values).to(torch.float32)\n",
    "        label_tensor = torch.tensor(list(df_structured_encoded['mRNA_remaining_pct']))\n",
    "        self.label_tensor = label_tensor.reshape([len(label_tensor),1]).to(torch.float32)\n",
    "    def __getitem__(self,index):\n",
    "        return self.g_id[index],self.features_tensor[index],self.label_tensor[index]\n",
    "    def __len__(self):\n",
    "        return len(self.g_id)\n",
    "\n",
    "TRVL_NonGraph_dataset = NonGraph_dataset(df_structured_encoded_iid_trvl)\n",
    "TEST_OOD_NonGraph_dataset = NonGraph_dataset(df_structured_encoded_ood_test)\n",
    "TEST_IID_NonGraph_dataset = NonGraph_dataset(df_structured_encoded_iid_test)"
   ]
  },
  {
   "cell_type": "markdown",
   "id": "67fca077-a9db-49a8-9359-16babcbf0414",
   "metadata": {
    "tags": []
   },
   "source": [
    "## Model Design"
   ]
  },
  {
   "cell_type": "markdown",
   "id": "07fa53ba-1163-4de6-a492-54dac22ae3ef",
   "metadata": {
    "tags": []
   },
   "source": [
    "### GINE"
   ]
  },
  {
   "cell_type": "code",
   "execution_count": 19,
   "id": "2d6055a7-d0f1-46aa-ad1f-41d0b2f4bca4",
   "metadata": {},
   "outputs": [],
   "source": [
    "class PositionalEncoding(nn.Module):\n",
    "    def __init__(self, d_model=48, max_len=28):\n",
    "        super().__init__()\n",
    "        pe = torch.zeros(max_len, d_model)\n",
    "        position = torch.arange(0, max_len, dtype=torch.float).unsqueeze(1)\n",
    "        div_term = torch.exp(torch.arange(0, d_model, 2).float() * (-np.log(10000.0) / d_model))\n",
    "        pe[:, 0::2] = torch.sin(position * div_term)\n",
    "        pe[:, 1::2] = torch.cos(position * div_term)\n",
    "        self.register_buffer('pe', pe.unsqueeze(0)) # 形状为 (1, max_len, d_model)\n",
    "\n",
    "    def forward(self, x):\n",
    "        return x + self.pe[:, :x.size(1)]\n",
    "\n",
    "class Embeddings(nn.Module):\n",
    "    def __init__(self, embed_dim=16, max_len=28):\n",
    "        super().__init__()\n",
    "        self.seq_embed = nn.Embedding(8, embed_dim)\n",
    "        self.modi_embed = nn.Embedding(8, embed_dim)\n",
    "        self.combine_fc = nn.Linear(embed_dim, 32)\n",
    "        self.output_fc = nn.Linear(32,16)\n",
    "\n",
    "    def forward(self, seq_modi_str):# mask = (seq==7)\n",
    "        seq_modi_str = seq_modi_str.int()\n",
    "        seq = seq_modi_str[:,0]\n",
    "        \n",
    "        modi = seq_modi_str[:,1]\n",
    "        struct = seq_modi_str[:,2]\n",
    "        seq_emb = self.seq_embed(seq)\n",
    "        modi_emb = self.modi_embed(modi)\n",
    "        combine_emb = seq_emb + modi_emb\n",
    "        \n",
    "        features = self.combine_fc(combine_emb)\n",
    "        output = self.output_fc(features)\n",
    "        \n",
    "        return output\n",
    "\n",
    "# node_xlen = 6+7+1 = 14\n",
    "# dim_h = 16\n",
    "\n",
    "class GINE(nn.Module):\n",
    "    def __init__(self,node_xlen,edge_xlen,dim_h):\n",
    "        super(GINE,self).__init__()\n",
    "        self.edge_lins = nn.ModuleList([nn.Linear(edge_xlen,node_xlen),\n",
    "                                        nn.Linear(edge_xlen,dim_h),\n",
    "                                        nn.Linear(edge_xlen,dim_h)])\n",
    "        self.conv1 = GINEConv(nn.Sequential(nn.Linear(node_xlen,dim_h),\n",
    "                                            nn.BatchNorm1d(dim_h),\n",
    "                                            nn.ReLU(),\n",
    "                                            nn.Linear(dim_h,dim_h),\n",
    "                                            nn.ReLU()))\n",
    "        self.conv2 = GINEConv(nn.Sequential(nn.Linear(dim_h,dim_h),\n",
    "                                            nn.BatchNorm1d(dim_h),\n",
    "                                            nn.ReLU(),\n",
    "                                            nn.Linear(dim_h,dim_h),\n",
    "                                            nn.ReLU()))\n",
    "        self.conv3 = GINEConv(nn.Sequential(nn.Linear(dim_h,dim_h),\n",
    "                                            nn.BatchNorm1d(dim_h),\n",
    "                                            nn.ReLU(),\n",
    "                                            nn.Linear(dim_h,dim_h),\n",
    "                                            nn.ReLU()))\n",
    "    \n",
    "    def forward(self,node_x,edge_index,edge_x,batch):\n",
    "        #print('GINE: edge_index',edge_index.shape,edge_index.max())\n",
    "        #print('GINE: node_x',node_x.shape)\n",
    "        \n",
    "        edge_x1 = self.edge_lins[0](edge_x)\n",
    "        h1 = self.conv1(node_x,edge_index,edge_x1)\n",
    "        \n",
    "        edge_x2 = self.edge_lins[1](edge_x)\n",
    "        h2 = self.conv2(h1,edge_index,edge_x2)\n",
    "        \n",
    "        edge_x3 = self.edge_lins[2](edge_x)\n",
    "        h3 = self.conv3(h2,edge_index,edge_x3)\n",
    "        \n",
    "        h1 = global_add_pool(h1, batch)\n",
    "        h2 = global_add_pool(h2, batch)\n",
    "        h3 = global_add_pool(h3, batch)\n",
    "        \n",
    "        h = torch.cat((h1, h2, h3), dim=1)\n",
    "        \n",
    "        return h\n",
    "\n",
    "# tfx_in = 109\n",
    "# tfx_out = 16\n",
    "\n",
    "class TfxMLP(nn.Module):\n",
    "    def __init__(self):\n",
    "        super().__init__()\n",
    "        self.dense1 = nn.Linear(109,512)\n",
    "        self.dense2 = nn.Linear(512,256)\n",
    "        self.dense3 = nn.Linear(256,192)\n",
    "    \n",
    "    def forward(self,x): #output_onehot3dconv,dataload):    \n",
    "        x = self.dense1(x)\n",
    "        x = F.relu(x)\n",
    "        x = self.dense2(x)\n",
    "        x = F.relu(x)\n",
    "        x = self.dense3(x)\n",
    "        x = F.relu(x)\n",
    "        return x.view(x.size(0),-1)\n",
    "\n",
    "class CombineMLP(nn.Module):\n",
    "    def __init__(self):\n",
    "        super().__init__()\n",
    "        self.dense1 = nn.Linear(576,256)\n",
    "        self.dense2 = nn.Linear(256,128)\n",
    "        self.dense3 = nn.Linear(128,64)\n",
    "        self.linear_out = nn.Linear(64,1)\n",
    "    def forward(self,x):\n",
    "        x = self.dense1(x)\n",
    "        x = F.relu(x)\n",
    "        x = self.dense2(x)\n",
    "        x = F.relu(x)\n",
    "        x = self.dense3(x)\n",
    "        x = F.relu(x)\n",
    "        x = F.dropout(x,p=0.5,training=self.training)\n",
    "        x = self.linear_out(x)\n",
    "        return x.view(x.size(0),-1)\n",
    "\n",
    "class modisiR_GINE(nn.Module):\n",
    "    def __init__(self):\n",
    "        super(modisiR_GINE,self).__init__()\n",
    "        self.embed_sense = Embeddings(embed_dim=16, max_len=28)\n",
    "        self.embed_antis = Embeddings(embed_dim=16, max_len=28)\n",
    "        self.gine_sense = GINE(node_xlen=16,edge_xlen=1,dim_h=64)\n",
    "        self.gine_antis = GINE(node_xlen=16,edge_xlen=1,dim_h=64)\n",
    "        self.tfxmlp = TfxMLP()\n",
    "        self.combinemlp = CombineMLP()\n",
    "    def forward(self,sense_gbatch,antis_gbatch,nongrf_batch): #node_x,edge_index,edge_x,batch,tfx_x\n",
    "        \n",
    "        sense_node_x = self.embed_sense(sense_gbatch.x.to(torch.float32))\n",
    "        sense_edge_index = sense_gbatch.edge_index\n",
    "        sense_edge_attr = torch.unsqueeze(sense_gbatch.edge_attr,1).to(torch.float32)\n",
    "        sense_batch_vec = sense_gbatch.batch\n",
    "        sense_graph_h = self.gine_sense(sense_node_x,sense_edge_index,sense_edge_attr,sense_batch_vec)\n",
    "\n",
    "        antis_node_x = self.embed_antis(antis_gbatch.x.to(torch.float32))\n",
    "        antis_edge_index = antis_gbatch.edge_index\n",
    "        antis_edge_attr = torch.unsqueeze(antis_gbatch.edge_attr,1).to(torch.float32)\n",
    "        antis_batch_vec = antis_gbatch.batch\n",
    "        antis_graph_h = self.gine_antis(antis_node_x,antis_edge_index,antis_edge_attr,antis_batch_vec)\n",
    "        \n",
    "        tfxftr_x = nongrf_batch[1]\n",
    "        tfxftr_h = self.tfxmlp(nongrf_batch)\n",
    "        \n",
    "        graph_tfx = torch.cat((sense_graph_h,antis_graph_h,tfxftr_h),dim=1)\n",
    "        pred = self.combinemlp(graph_tfx)\n",
    "        return pred.reshape([len(pred),1])"
   ]
  },
  {
   "cell_type": "markdown",
   "id": "042efd32-1c33-4270-a0c3-b6c7d4750245",
   "metadata": {
    "tags": []
   },
   "source": [
    "### train_func"
   ]
  },
  {
   "cell_type": "code",
   "execution_count": 20,
   "id": "be4251f5-9cb3-44da-a698-539727cb340d",
   "metadata": {
    "tags": []
   },
   "outputs": [],
   "source": [
    "def train_GINE_ERM(dataload_TRAIN_zip,model,optimizer,criterion):\n",
    "    DEVICE = 'cuda' if torch.cuda.is_available() else 'cpu'\n",
    "    model.to(DEVICE)\n",
    "    model.train()\n",
    "    loss_train = 0\n",
    "    \n",
    "    for data_triple in dataload_TRAIN_zip:\n",
    "        #print('*',end='')\n",
    "        sense_gbatch = data_triple[0].to(DEVICE)\n",
    "        antis_gbatch = data_triple[1].to(DEVICE)\n",
    "        nongrf_batch = data_triple[2][1].to(DEVICE)\n",
    "        \n",
    "        #print('train_GINE_ERM:',sense_gbatch.edge_index.max())\n",
    "        y_batch_pred = model(sense_gbatch,antis_gbatch,nongrf_batch)\n",
    "        y_batch_lbl = data_triple[2][2].to(torch.float32)\n",
    "        \n",
    "        loss_batch = criterion(y_batch_pred, y_batch_lbl).to(torch.float32)  # 计算加权损失\n",
    "        optimizer.zero_grad()\n",
    "        loss_batch.backward()\n",
    "        optimizer.step()\n",
    "        \n",
    "        loss_train += loss_batch.item()\n",
    "    return loss_train/len(dataload_TRAIN_zip)"
   ]
  },
  {
   "cell_type": "code",
   "execution_count": 21,
   "id": "719e20c5-b0d5-4478-9f50-ba3cd66d5bce",
   "metadata": {
    "tags": []
   },
   "outputs": [],
   "source": [
    "def calculate_metrics(y_pred, y_true, threshold=30):\n",
    "    import warnings\n",
    "    warnings.simplefilter(\"ignore\")\n",
    "    \n",
    "    y_true = y_true.clip(0,100)\n",
    "    y_pred = y_pred.clip(0,100)\n",
    "    \n",
    "    mae = np.mean(np.abs(y_true - y_pred))\n",
    "\n",
    "    y_true_binary = (y_true < threshold).astype(int)\n",
    "    y_pred_binary = (y_pred < threshold).astype(int)\n",
    "\n",
    "    mask = (y_pred >= 0) & (y_pred <= threshold)\n",
    "    range_mae = mean_absolute_error(y_true[mask], y_pred[mask]) if mask.sum() > 0 else 100\n",
    "\n",
    "    precision = precision_score(y_true_binary, y_pred_binary, average='binary')\n",
    "    recall = recall_score(y_true_binary, y_pred_binary, average='binary')\n",
    "    \n",
    "    f1 = 2 * precision * recall / (precision + recall)\n",
    "\n",
    "    score = (1 - mae / 100) * 0.5 + (1 - range_mae / 100) * f1 * 0.5\n",
    "    \n",
    "    warnings.filterwarnings(\"default\")\n",
    "    return score"
   ]
  },
  {
   "cell_type": "code",
   "execution_count": 22,
   "id": "840874ed-fc06-403d-8b6e-c60c405a81b8",
   "metadata": {},
   "outputs": [],
   "source": [
    "def validate_GINE(dataload_VAL_zip,model,criterion):\n",
    "    DEVICE = 'cuda' if torch.cuda.is_available() else 'cpu'\n",
    "    model.to(DEVICE)\n",
    "    model.eval()\n",
    "    loss_val = 0\n",
    "    y_val_lbl = []\n",
    "    y_val_pred = []\n",
    "    with torch.no_grad():\n",
    "        for data_triple in dataload_VAL_zip:\n",
    "\n",
    "            sense_gbatch = data_triple[0].to(DEVICE)\n",
    "            antis_gbatch = data_triple[1].to(DEVICE)\n",
    "            nongrf_batch = data_triple[2][1].to(DEVICE)\n",
    "            \n",
    "            y_batch_pred = model(sense_gbatch,antis_gbatch,nongrf_batch)\n",
    "            y_batch_lbl = data_triple[2][2].to(torch.float32)\n",
    "            \n",
    "            loss_batch = criterion(y_batch_pred,y_batch_lbl)\n",
    "\n",
    "            loss_val += loss_batch.item()\n",
    "            y_val_lbl.extend(y_batch_lbl.cpu().numpy())\n",
    "            y_val_pred.extend(y_batch_pred.cpu().numpy())\n",
    "        \n",
    "    y_val_pred = np.array(y_val_pred)\n",
    "    y_val_lbl = np.array(y_val_lbl)\n",
    "    model_score = calculate_metrics(y_val_pred, y_val_lbl)\n",
    "    return loss_val/len(dataload_VAL_zip),model_score"
   ]
  },
  {
   "cell_type": "markdown",
   "id": "443e55c5-ac16-4674-bfdd-9885aad57be5",
   "metadata": {},
   "source": [
    "---"
   ]
  },
  {
   "cell_type": "markdown",
   "id": "fa05b7cc-d6d5-4d61-8694-69a96d176baf",
   "metadata": {
    "tags": []
   },
   "source": [
    "## Training"
   ]
  },
  {
   "cell_type": "code",
   "execution_count": 23,
   "id": "3dd60ebf-321f-4d2a-b015-f5bbfeb14f0f",
   "metadata": {},
   "outputs": [],
   "source": [
    "def id_consistent_check(graphload_sense,graphload_antis,dataload_tab):\n",
    "    sense_gid = []\n",
    "    antis_gid = []\n",
    "    tabular_id = []\n",
    "\n",
    "    for b in graphload_sense:\n",
    "        sense_gid.append(b.g_id)\n",
    "\n",
    "    for b in graphload_antis:\n",
    "        antis_gid.append(b.g_id)\n",
    "\n",
    "    for b in dataload_tab:\n",
    "        tabular_id.append(b[0])\n",
    "\n",
    "    ######\n",
    "    if len(sense_gid)!=len(antis_gid) or len(tabular_id)!=len(antis_gid):\n",
    "        raise Exception('Error: Sample numbers are not match between dataloads!')\n",
    "    print('ID consistent check between dataloads')\n",
    "    #print('batch','s&a_gid','tid&gid',sep='\\t')\n",
    "    for i in range(len(sense_gid)):\n",
    "        print(i,end='\\r')\n",
    "        assert(False not in (sense_gid[i]==antis_gid[i]))\n",
    "        assert(False not in (tabular_id[i]==antis_gid[i]))\n",
    "        #print(False not in (sense_gid[i]==antis_gid[i]),end='\\t')\n",
    "        #print(False not in (tabular_id[i]==antis_gid[i]))\n",
    "    return\n",
    "\n",
    "def cv_train_GINE(model_type:str,TRVL_NonGraph_dataset,TRVL_sense_glist,TRVL_antis_glist,\n",
    "                  dataload_TEST_IID_zip,dataload_TEST_OOD_zip):\n",
    "    lr = 0.002\n",
    "    EPOCHS = 80\n",
    "    BETA = 1\n",
    "    BATCH_SIZE = 256\n",
    "    OVERSAMP = False\n",
    "\n",
    "    early_stop_score = 1\n",
    "    warm_up_epoch_num = 10\n",
    "    loss_tolerance_epoch_num = 5\n",
    "    \n",
    "    model_list = []\n",
    "    cv_log = []\n",
    "    \n",
    "    kfold = KFold(n_splits=10,shuffle=False)\n",
    "    splits = kfold.split(list(range(len(TRVL_NonGraph_dataset))))\n",
    "    \n",
    "    for train_index, val_index in splits:\n",
    "        start_time = time.time()\n",
    "        \n",
    "        dataset_TRAIN = {'sense_graph':[TRVL_sense_glist[q] for q in train_index],\n",
    "                         'antis_graph':[TRVL_antis_glist[q] for q in train_index],\n",
    "                         'tabular':Subset(TRVL_NonGraph_dataset,train_index)}\n",
    "        dataset_VAL = {'sense_graph':[TRVL_sense_glist[q] for q in val_index],\n",
    "                         'antis_graph':[TRVL_antis_glist[q] for q in val_index],\n",
    "                         'tabular':Subset(TRVL_NonGraph_dataset,val_index)}\n",
    "\n",
    "        graphload_TRAIN_sense = PyG_DataLoader(dataset_TRAIN['sense_graph'],batch_size=BATCH_SIZE,shuffle=False)\n",
    "        graphload_TRAIN_antis = PyG_DataLoader(dataset_TRAIN['antis_graph'],batch_size=BATCH_SIZE,shuffle=False)\n",
    "        dataload_TRAIN = DataLoader(dataset=dataset_TRAIN['tabular'],batch_size=BATCH_SIZE,shuffle=False)\n",
    "\n",
    "        graphload_VAL_sense = PyG_DataLoader(dataset_VAL['sense_graph'],batch_size=BATCH_SIZE,shuffle=False)\n",
    "        graphload_VAL_antis = PyG_DataLoader(dataset_VAL['antis_graph'],batch_size=BATCH_SIZE,shuffle=False)\n",
    "        dataload_VAL = DataLoader(dataset=dataset_VAL['tabular'],batch_size=BATCH_SIZE,shuffle=False)\n",
    "\n",
    "        id_consistent_check(graphload_TRAIN_sense,graphload_TRAIN_antis,dataload_TRAIN)\n",
    "        id_consistent_check(graphload_VAL_sense,graphload_VAL_antis,dataload_VAL)\n",
    "\n",
    "        dataload_TRAIN_zip = list(zip(graphload_TRAIN_sense,graphload_TRAIN_antis,dataload_TRAIN))\n",
    "        dataload_VAL_zip = list(zip(graphload_VAL_sense,graphload_VAL_antis,dataload_VAL))\n",
    "        \n",
    "        model = modisiR_GINE()\n",
    "        lowest_loss_epoch = {'loss_val':float(\"inf\"),'epoch':0}\n",
    "        best_score = -float('inf')\n",
    "        best_OOD = -float('inf')\n",
    "        optimizer = optim.AdamW([{'params':model.parameters(),'lr':lr}])\n",
    "        criterion = nn.MSELoss(reduction='mean')\n",
    "        \n",
    "        log_train = []\n",
    "        \n",
    "        for epoch in range(EPOCHS):\n",
    "            start_time_epoch = time.time()\n",
    "            if model_type == 'vrex':\n",
    "                assert('not available yet')\n",
    "            elif model_type == 'erm':\n",
    "                loss_train = train_GINE_ERM(dataload_TRAIN_zip,model,optimizer,criterion)\n",
    "            else: assert('No such model type. Type should be erm or vrex.')\n",
    "            loss_val,model_score = validate_GINE(dataload_VAL_zip,model,criterion)\n",
    "            \n",
    "            _,test_score_iid = validate_GINE(dataload_TEST_IID_zip,model,criterion)\n",
    "            _,test_score_ood = validate_GINE(dataload_TEST_OOD_zip,model,criterion)\n",
    "            \n",
    "            if epoch > warm_up_epoch_num:\n",
    "                if loss_val < lowest_loss_epoch['loss_val']:\n",
    "                    lowest_loss_epoch['epoch'] = epoch\n",
    "                    lowest_loss_epoch['loss_val'] = loss_val\n",
    "                elif (epoch-lowest_loss_epoch['epoch']) >= loss_tolerance_epoch_num:\n",
    "                    lowest_loss_epoch['epoch'] = epoch\n",
    "                    for param_group in optimizer.param_groups:\n",
    "                        param_group['lr'] *= 0.5\n",
    "            \n",
    "            log_train.append((epoch,loss_train,loss_val,model_score,test_score_iid,test_score_ood,lr))\n",
    "            \n",
    "            if model_score > best_score:\n",
    "                best_score = model_score\n",
    "                best_OOD = test_score_ood\n",
    "                best_model = copy.deepcopy(model.state_dict())\n",
    "            \n",
    "            print(f'\\r{epoch}\\t{model_score:.4f}\\t{test_score_iid:.4f}\\t{test_score_ood:.4f}\\t({best_score:.4f},{best_OOD:.4f})',sep='',end='')\n",
    "            \n",
    "            if best_score >= early_stop_score:\n",
    "                break\n",
    "        model_list.append(best_model)\n",
    "        cv_log.append(log_train)\n",
    "        print('')\n",
    "    df_cv_log = pd.DataFrame()\n",
    "    for i in range(len(cv_log)):\n",
    "        df_log = pd.DataFrame(cv_log[i])\n",
    "        mindex = pd.MultiIndex.from_product([['Model_'+str(i)],['epoch','loss_train','loss_val','val_score','iid_score','ood_score','lr']])\n",
    "        df_log.columns = mindex\n",
    "        df_cv_log = pd.concat([df_cv_log,df_log],axis=1)\n",
    "        \n",
    "    return model_list,df_cv_log\n",
    "\n",
    "def cvmodel_test(model_list,dataload_TEST_zip):\n",
    "    model4test = modisiR_GINE()\n",
    "    test_score_list = []\n",
    "    for i in range(len(model_list)):\n",
    "        model4test.load_state_dict(model_list[i])\n",
    "        model4test.eval()\n",
    "        _,test_score = validate_GINE(dataload_TEST_zip,model4test,nn.MSELoss(reduction='mean'))\n",
    "        print(test_score)\n",
    "        test_score_list.append(test_score)\n",
    "    return test_score_list"
   ]
  },
  {
   "cell_type": "code",
   "execution_count": 24,
   "id": "00253dd7-eb35-476e-a5ac-f300ac5c5878",
   "metadata": {},
   "outputs": [],
   "source": [
    "def save_state_dict_2cpu(PATH_SAVE,model_list,model):\n",
    "    os.mkdir(PATH_SAVE+'models')\n",
    "    for i in range(len(model_list)):\n",
    "        print(i,list(model_list[i].values())[0].device,end='\\t')\n",
    "        model.load_state_dict(model_list[i])\n",
    "        model.to('cpu')\n",
    "        print('to',list(model.state_dict().values())[0].device)\n",
    "        torch.save(model.state_dict(), PATH_SAVE+'models/state_dict_cpu_'+str(i)+'.pth')"
   ]
  },
  {
   "cell_type": "markdown",
   "id": "7c86cd61-dc3b-42d7-8fe0-14115ae5e4a7",
   "metadata": {
    "tags": []
   },
   "source": [
    "### train_ERM: Complete"
   ]
  },
  {
   "cell_type": "code",
   "execution_count": 25,
   "id": "c2e54bd5-2bcc-4fb1-b6ec-d1824a6566a3",
   "metadata": {},
   "outputs": [],
   "source": [
    "dataset_TEST_IID = {'sense_graph':TEST_IID_sense_glist,\n",
    "                 'antis_graph':TEST_IID_antis_glist,\n",
    "                 'tabular':TEST_IID_NonGraph_dataset}\n",
    "\n",
    "graphload_TEST_IID_sense = PyG_DataLoader(dataset_TEST_IID['sense_graph'],batch_size=BATCH_SIZE,shuffle=False)\n",
    "graphload_TEST_IID_antis = PyG_DataLoader(dataset_TEST_IID['antis_graph'],batch_size=BATCH_SIZE,shuffle=False)\n",
    "dataload_TEST_IID = DataLoader(dataset=dataset_TEST_IID['tabular'],batch_size=BATCH_SIZE,shuffle=False)\n",
    "dataload_TEST_IID_zip = list(zip(graphload_TEST_IID_sense,graphload_TEST_IID_antis,dataload_TEST_IID))\n",
    "\n",
    "dataset_TEST_OOD = {'sense_graph':TEST_OOD_sense_glist,\n",
    "                 'antis_graph':TEST_OOD_antis_glist,\n",
    "                 'tabular':TEST_OOD_NonGraph_dataset}\n",
    "\n",
    "graphload_TEST_OOD_sense = PyG_DataLoader(dataset_TEST_OOD['sense_graph'],batch_size=BATCH_SIZE,shuffle=False)\n",
    "graphload_TEST_OOD_antis = PyG_DataLoader(dataset_TEST_OOD['antis_graph'],batch_size=BATCH_SIZE,shuffle=False)\n",
    "dataload_TEST_OOD = DataLoader(dataset=dataset_TEST_OOD['tabular'],batch_size=BATCH_SIZE,shuffle=False)\n",
    "dataload_TEST_OOD_zip = list(zip(graphload_TEST_OOD_sense,graphload_TEST_OOD_antis,dataload_TEST_OOD))"
   ]
  },
  {
   "cell_type": "code",
   "execution_count": 26,
   "id": "f9440cb9-0553-4947-b0f6-2470bb5902f0",
   "metadata": {
    "tags": []
   },
   "outputs": [
    {
     "name": "stdout",
     "output_type": "stream",
     "text": [
      "ID consistent check between dataloads\n",
      "ID consistent check between dataloads\n",
      "79\t0.8159\t0.8165\t0.5521\t(0.8172,0.5565)\n",
      "ID consistent check between dataloads\n",
      "ID consistent check between dataloads\n",
      "79\t0.8110\t0.8106\t0.5605\t(0.8120,0.5621)\n",
      "ID consistent check between dataloads\n",
      "ID consistent check between dataloads\n",
      "79\t0.8217\t0.8106\t0.5336\t(0.8234,0.5346)\n",
      "ID consistent check between dataloads\n",
      "ID consistent check between dataloads\n",
      "79\t0.8190\t0.8150\t0.5804\t(0.8195,0.5738)\n",
      "ID consistent check between dataloads\n",
      "ID consistent check between dataloads\n",
      "79\t0.8157\t0.8201\t0.5642\t(0.8157,0.5642)\n",
      "ID consistent check between dataloads\n",
      "ID consistent check between dataloads\n",
      "79\t0.8095\t0.8221\t0.5613\t(0.8095,0.5613)\n",
      "ID consistent check between dataloads\n",
      "ID consistent check between dataloads\n",
      "79\t0.8251\t0.8144\t0.5695\t(0.8291,0.5682)\n",
      "ID consistent check between dataloads\n",
      "ID consistent check between dataloads\n",
      "79\t0.8205\t0.8169\t0.5745\t(0.8205,0.5745)\n",
      "ID consistent check between dataloads\n",
      "ID consistent check between dataloads\n",
      "79\t0.8037\t0.8194\t0.5793\t(0.8063,0.5807)\n",
      "ID consistent check between dataloads\n",
      "ID consistent check between dataloads\n",
      "79\t0.7977\t0.8072\t0.6034\t(0.7983,0.6042)\n"
     ]
    }
   ],
   "source": [
    "ERM_model_list,ERM_cv_log = cv_train_GINE('erm',TRVL_NonGraph_dataset,TRVL_sense_glist,TRVL_antis_glist,\n",
    "                  dataload_TEST_IID_zip,dataload_TEST_OOD_zip)"
   ]
  },
  {
   "cell_type": "code",
   "execution_count": 27,
   "id": "1fac4e02-a6c4-4d80-95ed-b59403a83de7",
   "metadata": {},
   "outputs": [
    {
     "name": "stdout",
     "output_type": "stream",
     "text": [
      "0.8181822166711684\n",
      "0.8111163987835635\n",
      "0.8095424122671009\n",
      "0.8170279305688393\n",
      "0.8201071098627466\n",
      "0.8221191507577896\n",
      "0.8121104845781938\n",
      "0.8168754730530697\n",
      "0.8196733327071575\n",
      "0.8078007415303551\n",
      "IID: 0.8154555250779986 \n",
      "\n",
      "0.5564907883746284\n",
      "0.5620661156098827\n",
      "0.5345839387585928\n",
      "0.5737923000405409\n",
      "0.5641624794189506\n",
      "0.5613489875489689\n",
      "0.5682139381042308\n",
      "0.5745393467561577\n",
      "0.5806921317118591\n",
      "0.6041925777772248\n",
      "OOD: 0.5680082604101037 \n",
      "\n"
     ]
    }
   ],
   "source": [
    "print('IID:',np.mean(np.array(cvmodel_test(ERM_model_list,dataload_TEST_IID_zip))),'\\n')\n",
    "print('OOD:',np.mean(np.array(cvmodel_test(ERM_model_list,dataload_TEST_OOD_zip))),'\\n')"
   ]
  },
  {
   "cell_type": "code",
   "execution_count": 28,
   "id": "c2a77351-3422-4d6b-a925-9dc1e323333c",
   "metadata": {},
   "outputs": [
    {
     "name": "stdout",
     "output_type": "stream",
     "text": [
      "0 cpu\tto cpu\n",
      "1 cpu\tto cpu\n",
      "2 cpu\tto cpu\n",
      "3 cpu\tto cpu\n",
      "4 cpu\tto cpu\n",
      "5 cpu\tto cpu\n",
      "6 cpu\tto cpu\n",
      "7 cpu\tto cpu\n",
      "8 cpu\tto cpu\n",
      "9 cpu\tto cpu\n"
     ]
    }
   ],
   "source": [
    "PATH_SAVE = './Models_out/GINE-ERM-80epo-0708v3_2/'\n",
    "cv_log = ERM_cv_log\n",
    "mdl_list = ERM_model_list\n",
    "#################################\n",
    "if not os.path.exists(PATH_SAVE):\n",
    "    os.makedirs(PATH_SAVE)\n",
    "mdlsave = modisiR_GINE()\n",
    "save_state_dict_2cpu(PATH_SAVE,mdl_list,mdlsave)\n",
    "######\n",
    "cv_log.to_pickle(PATH_SAVE+'/df_cv_log.pickle')"
   ]
  },
  {
   "cell_type": "markdown",
   "id": "5f2070ba-9794-4e7a-84d5-b86b574f7deb",
   "metadata": {
    "tags": []
   },
   "source": [
    "### train_ERM: Full"
   ]
  },
  {
   "cell_type": "code",
   "execution_count": 29,
   "id": "0d66a6e5-389c-4906-8f91-78975796644c",
   "metadata": {},
   "outputs": [],
   "source": [
    "dataset_TEST_IID_all1 = {'sense_graph':TEST_IID_sense_glist_all1,\n",
    "                 'antis_graph':TEST_IID_antis_glist_all1,\n",
    "                 'tabular':TEST_IID_NonGraph_dataset}\n",
    "\n",
    "graphload_TEST_IID_sense_all1 = PyG_DataLoader(dataset_TEST_IID_all1['sense_graph'],batch_size=BATCH_SIZE,shuffle=False)\n",
    "graphload_TEST_IID_antis_all1 = PyG_DataLoader(dataset_TEST_IID_all1['antis_graph'],batch_size=BATCH_SIZE,shuffle=False)\n",
    "dataload_TEST_IID_all1 = DataLoader(dataset=dataset_TEST_IID_all1['tabular'],batch_size=BATCH_SIZE,shuffle=False)\n",
    "dataload_TEST_IID_zip_all1 = list(zip(graphload_TEST_IID_sense_all1,graphload_TEST_IID_antis_all1,dataload_TEST_IID_all1))\n",
    "\n",
    "dataset_TEST_OOD_all1 = {'sense_graph':TEST_OOD_sense_glist_all1,\n",
    "                 'antis_graph':TEST_OOD_antis_glist_all1,\n",
    "                 'tabular':TEST_OOD_NonGraph_dataset}\n",
    "\n",
    "graphload_TEST_OOD_sense_all1 = PyG_DataLoader(dataset_TEST_OOD_all1['sense_graph'],batch_size=BATCH_SIZE,shuffle=False)\n",
    "graphload_TEST_OOD_antis_all1 = PyG_DataLoader(dataset_TEST_OOD_all1['antis_graph'],batch_size=BATCH_SIZE,shuffle=False)\n",
    "dataload_TEST_OOD_all1 = DataLoader(dataset=dataset_TEST_OOD_all1['tabular'],batch_size=BATCH_SIZE,shuffle=False)\n",
    "dataload_TEST_OOD_zip_all1 = list(zip(graphload_TEST_OOD_sense_all1,graphload_TEST_OOD_antis_all1,dataload_TEST_OOD_all1))"
   ]
  },
  {
   "cell_type": "code",
   "execution_count": 30,
   "id": "c731ef11-f94a-4018-b475-94c3c5a5d679",
   "metadata": {
    "tags": []
   },
   "outputs": [
    {
     "name": "stdout",
     "output_type": "stream",
     "text": [
      "ID consistent check between dataloads\n",
      "ID consistent check between dataloads\n",
      "79\t0.7934\t0.7907\t0.5329\t(0.7969,0.5337)\n",
      "ID consistent check between dataloads\n",
      "ID consistent check between dataloads\n",
      "79\t0.7997\t0.7955\t0.5551\t(0.8027,0.5561)\n",
      "ID consistent check between dataloads\n",
      "ID consistent check between dataloads\n",
      "79\t0.8028\t0.8000\t0.5634\t(0.8057,0.5757)\n",
      "ID consistent check between dataloads\n",
      "ID consistent check between dataloads\n",
      "79\t0.7993\t0.8016\t0.5792\t(0.8037,0.5812)\n",
      "ID consistent check between dataloads\n",
      "ID consistent check between dataloads\n",
      "79\t0.7955\t0.7942\t0.5279\t(0.7976,0.5276)\n",
      "ID consistent check between dataloads\n",
      "ID consistent check between dataloads\n",
      "79\t0.7722\t0.7919\t0.5241\t(0.7740,0.5242)\n",
      "ID consistent check between dataloads\n",
      "ID consistent check between dataloads\n",
      "79\t0.7935\t0.7886\t0.5576\t(0.7962,0.5568)\n",
      "ID consistent check between dataloads\n",
      "ID consistent check between dataloads\n",
      "79\t0.7929\t0.7959\t0.5431\t(0.7981,0.5457)\n",
      "ID consistent check between dataloads\n",
      "ID consistent check between dataloads\n",
      "79\t0.7930\t0.8007\t0.5524\t(0.7948,0.5536)\n",
      "ID consistent check between dataloads\n",
      "ID consistent check between dataloads\n",
      "79\t0.7873\t0.8045\t0.5689\t(0.7883,0.5704)\n"
     ]
    }
   ],
   "source": [
    "ERM_model_list_all1,ERM_cv_log_all1 = cv_train_GINE('erm',TRVL_NonGraph_dataset,TRVL_sense_glist_all1,TRVL_antis_glist_all1,\n",
    "                  dataload_TEST_IID_zip_all1,dataload_TEST_OOD_zip_all1)"
   ]
  },
  {
   "cell_type": "code",
   "execution_count": 31,
   "id": "b152f47f-4912-4d43-955c-934f9bc883a6",
   "metadata": {},
   "outputs": [
    {
     "name": "stdout",
     "output_type": "stream",
     "text": [
      "0 cpu\tto cpu\n",
      "1 cpu\tto cpu\n",
      "2 cpu\tto cpu\n",
      "3 cpu\tto cpu\n",
      "4 cpu\tto cpu\n",
      "5 cpu\tto cpu\n",
      "6 cpu\tto cpu\n",
      "7 cpu\tto cpu\n",
      "8 cpu\tto cpu\n",
      "9 cpu\tto cpu\n"
     ]
    }
   ],
   "source": [
    "PATH_SAVE = './Models_out/GINE_all1-ERM-80epo-0708v3_2/'\n",
    "cv_log = ERM_cv_log_all1\n",
    "mdl_list = ERM_model_list_all1\n",
    "#################################\n",
    "if not os.path.exists(PATH_SAVE):\n",
    "    os.makedirs(PATH_SAVE)\n",
    "mdlsave = modisiR_GINE()\n",
    "save_state_dict_2cpu(PATH_SAVE,mdl_list,mdlsave)\n",
    "######\n",
    "cv_log.to_pickle(PATH_SAVE+'/df_cv_log.pickle')"
   ]
  },
  {
   "cell_type": "markdown",
   "id": "d4264259-467c-48e4-afd3-ccf03fc485a2",
   "metadata": {
    "tags": []
   },
   "source": [
    "### train_ERM: Null"
   ]
  },
  {
   "cell_type": "code",
   "execution_count": 32,
   "id": "3fc8ecf0-95ec-47f8-b00e-e51584c4d050",
   "metadata": {},
   "outputs": [],
   "source": [
    "dataset_TEST_IID_none = {'sense_graph':TEST_IID_sense_glist_none,\n",
    "                 'antis_graph':TEST_IID_antis_glist_none,\n",
    "                 'tabular':TEST_IID_NonGraph_dataset}\n",
    "\n",
    "graphload_TEST_IID_sense_none = PyG_DataLoader(dataset_TEST_IID_none['sense_graph'],batch_size=BATCH_SIZE,shuffle=False)\n",
    "graphload_TEST_IID_antis_none = PyG_DataLoader(dataset_TEST_IID_none['antis_graph'],batch_size=BATCH_SIZE,shuffle=False)\n",
    "dataload_TEST_IID_none = DataLoader(dataset=dataset_TEST_IID_none['tabular'],batch_size=BATCH_SIZE,shuffle=False)\n",
    "dataload_TEST_IID_zip_none = list(zip(graphload_TEST_IID_sense_none,graphload_TEST_IID_antis_none,dataload_TEST_IID_none))\n",
    "\n",
    "dataset_TEST_OOD_none = {'sense_graph':TEST_OOD_sense_glist_none,\n",
    "                 'antis_graph':TEST_OOD_antis_glist_none,\n",
    "                 'tabular':TEST_OOD_NonGraph_dataset}\n",
    "\n",
    "graphload_TEST_OOD_sense_none = PyG_DataLoader(dataset_TEST_OOD_none['sense_graph'],batch_size=BATCH_SIZE,shuffle=False)\n",
    "graphload_TEST_OOD_antis_none = PyG_DataLoader(dataset_TEST_OOD_none['antis_graph'],batch_size=BATCH_SIZE,shuffle=False)\n",
    "dataload_TEST_OOD_none = DataLoader(dataset=dataset_TEST_OOD_none['tabular'],batch_size=BATCH_SIZE,shuffle=False)\n",
    "dataload_TEST_OOD_zip_none = list(zip(graphload_TEST_OOD_sense_none,graphload_TEST_OOD_antis_none,dataload_TEST_OOD_none))"
   ]
  },
  {
   "cell_type": "code",
   "execution_count": 33,
   "id": "0d133882-100c-4238-944a-76b257ea351b",
   "metadata": {
    "tags": []
   },
   "outputs": [
    {
     "name": "stdout",
     "output_type": "stream",
     "text": [
      "ID consistent check between dataloads\n",
      "ID consistent check between dataloads\n",
      "79\t0.7621\t0.7715\t0.5213\t(0.7654,0.5225)\n",
      "ID consistent check between dataloads\n",
      "ID consistent check between dataloads\n",
      "79\t0.7805\t0.7644\t0.5643\t(0.7851,0.5598)\n",
      "ID consistent check between dataloads\n",
      "ID consistent check between dataloads\n",
      "79\t0.7815\t0.7687\t0.5363\t(0.7815,0.5363)\n",
      "ID consistent check between dataloads\n",
      "ID consistent check between dataloads\n",
      "79\t0.7681\t0.7782\t0.5739\t(0.7692,0.5769)\n",
      "ID consistent check between dataloads\n",
      "ID consistent check between dataloads\n",
      "79\t0.7572\t0.7635\t0.5859\t(0.7587,0.5861)\n",
      "ID consistent check between dataloads\n",
      "ID consistent check between dataloads\n",
      "79\t0.7446\t0.7770\t0.5231\t(0.7455,0.5241)\n",
      "ID consistent check between dataloads\n",
      "ID consistent check between dataloads\n",
      "79\t0.7676\t0.7630\t0.5699\t(0.7676,0.5699)\n",
      "ID consistent check between dataloads\n",
      "ID consistent check between dataloads\n",
      "79\t0.7644\t0.7611\t0.5962\t(0.7728,0.5928)\n",
      "ID consistent check between dataloads\n",
      "ID consistent check between dataloads\n",
      "79\t0.7544\t0.7765\t0.5860\t(0.7558,0.5922)\n",
      "ID consistent check between dataloads\n",
      "ID consistent check between dataloads\n",
      "79\t0.7459\t0.7658\t0.5075\t(0.7469,0.5103)\n"
     ]
    }
   ],
   "source": [
    "ERM_model_list_none,ERM_cv_log_none = cv_train_GINE('erm',TRVL_NonGraph_dataset,TRVL_sense_glist_none,TRVL_antis_glist_none,\n",
    "                  dataload_TEST_IID_zip_none,dataload_TEST_OOD_zip_none)"
   ]
  },
  {
   "cell_type": "code",
   "execution_count": 34,
   "id": "13b078fa-a6a7-4473-93db-c78544038a3a",
   "metadata": {},
   "outputs": [
    {
     "name": "stdout",
     "output_type": "stream",
     "text": [
      "0 cpu\tto cpu\n",
      "1 cpu\tto cpu\n",
      "2 cpu\tto cpu\n",
      "3 cpu\tto cpu\n",
      "4 cpu\tto cpu\n",
      "5 cpu\tto cpu\n",
      "6 cpu\tto cpu\n",
      "7 cpu\tto cpu\n",
      "8 cpu\tto cpu\n",
      "9 cpu\tto cpu\n"
     ]
    }
   ],
   "source": [
    "PATH_SAVE = './Models_out/GINE_none-ERM-80epo-0708v3_2/'\n",
    "cv_log = ERM_cv_log_none\n",
    "mdl_list = ERM_model_list_none\n",
    "#################################\n",
    "if not os.path.exists(PATH_SAVE):\n",
    "    os.makedirs(PATH_SAVE)\n",
    "mdlsave = modisiR_GINE()\n",
    "save_state_dict_2cpu(PATH_SAVE,mdl_list,mdlsave)\n",
    "######\n",
    "cv_log.to_pickle(PATH_SAVE+'/df_cv_log.pickle')"
   ]
  },
  {
   "cell_type": "markdown",
   "id": "e0a43ee4-9243-4ed3-98d0-5a2d0cda4880",
   "metadata": {
    "tags": []
   },
   "source": [
    "### train_ERM: Primary"
   ]
  },
  {
   "cell_type": "code",
   "execution_count": 35,
   "id": "a17602f7-19c8-4345-86e0-7cce8812c493",
   "metadata": {},
   "outputs": [],
   "source": [
    "dataset_TEST_IID_str1 = {'sense_graph':TEST_IID_sense_glist_str1,\n",
    "                 'antis_graph':TEST_IID_antis_glist_str1,\n",
    "                 'tabular':TEST_IID_NonGraph_dataset}\n",
    "\n",
    "graphload_TEST_IID_sense_str1 = PyG_DataLoader(dataset_TEST_IID_str1['sense_graph'],batch_size=BATCH_SIZE,shuffle=False)\n",
    "graphload_TEST_IID_antis_str1 = PyG_DataLoader(dataset_TEST_IID_str1['antis_graph'],batch_size=BATCH_SIZE,shuffle=False)\n",
    "dataload_TEST_IID_str1 = DataLoader(dataset=dataset_TEST_IID_str1['tabular'],batch_size=BATCH_SIZE,shuffle=False)\n",
    "dataload_TEST_IID_zip_str1 = list(zip(graphload_TEST_IID_sense_str1,graphload_TEST_IID_antis_str1,dataload_TEST_IID_str1))\n",
    "\n",
    "dataset_TEST_OOD_str1 = {'sense_graph':TEST_OOD_sense_glist_str1,\n",
    "                 'antis_graph':TEST_OOD_antis_glist_str1,\n",
    "                 'tabular':TEST_OOD_NonGraph_dataset}\n",
    "\n",
    "graphload_TEST_OOD_sense_str1 = PyG_DataLoader(dataset_TEST_OOD_str1['sense_graph'],batch_size=BATCH_SIZE,shuffle=False)\n",
    "graphload_TEST_OOD_antis_str1 = PyG_DataLoader(dataset_TEST_OOD_str1['antis_graph'],batch_size=BATCH_SIZE,shuffle=False)\n",
    "dataload_TEST_OOD_str1 = DataLoader(dataset=dataset_TEST_OOD_str1['tabular'],batch_size=BATCH_SIZE,shuffle=False)\n",
    "dataload_TEST_OOD_zip_str1 = list(zip(graphload_TEST_OOD_sense_str1,graphload_TEST_OOD_antis_str1,dataload_TEST_OOD_str1))"
   ]
  },
  {
   "cell_type": "code",
   "execution_count": 36,
   "id": "78ee0aa2-cbb3-44fc-a29e-85702e4fa7b8",
   "metadata": {
    "tags": []
   },
   "outputs": [
    {
     "name": "stdout",
     "output_type": "stream",
     "text": [
      "ID consistent check between dataloads\n",
      "ID consistent check between dataloads\n",
      "79\t0.8081\t0.8067\t0.5934\t(0.8103,0.5986)\n",
      "ID consistent check between dataloads\n",
      "ID consistent check between dataloads\n",
      "79\t0.8126\t0.8045\t0.5826\t(0.8147,0.5842)\n",
      "ID consistent check between dataloads\n",
      "ID consistent check between dataloads\n",
      "79\t0.8161\t0.8101\t0.5785\t(0.8164,0.5777)\n",
      "ID consistent check between dataloads\n",
      "ID consistent check between dataloads\n",
      "79\t0.8072\t0.8076\t0.6424\t(0.8194,0.6280)\n",
      "ID consistent check between dataloads\n",
      "ID consistent check between dataloads\n",
      "79\t0.8087\t0.8094\t0.5908\t(0.8124,0.5915)\n",
      "ID consistent check between dataloads\n",
      "ID consistent check between dataloads\n",
      "79\t0.7852\t0.8073\t0.5873\t(0.7891,0.5831)\n",
      "ID consistent check between dataloads\n",
      "ID consistent check between dataloads\n",
      "79\t0.8120\t0.8018\t0.5892\t(0.8143,0.5900)\n",
      "ID consistent check between dataloads\n",
      "ID consistent check between dataloads\n",
      "79\t0.8104\t0.8134\t0.6031\t(0.8120,0.6112)\n",
      "ID consistent check between dataloads\n",
      "ID consistent check between dataloads\n",
      "79\t0.7955\t0.8004\t0.5344\t(0.7984,0.5333)\n",
      "ID consistent check between dataloads\n",
      "ID consistent check between dataloads\n",
      "79\t0.7923\t0.8050\t0.5765\t(0.7966,0.5750)\n"
     ]
    }
   ],
   "source": [
    "ERM_model_list_str1,ERM_cv_log_str1 = cv_train_GINE('erm',TRVL_NonGraph_dataset,TRVL_sense_glist_str1,TRVL_antis_glist_str1,\n",
    "                  dataload_TEST_IID_zip_str1,dataload_TEST_OOD_zip_str1)"
   ]
  },
  {
   "cell_type": "code",
   "execution_count": 37,
   "id": "af7c40f2-e42d-4f57-92a8-3142efc23ebe",
   "metadata": {},
   "outputs": [
    {
     "name": "stdout",
     "output_type": "stream",
     "text": [
      "0 cpu\tto cpu\n",
      "1 cpu\tto cpu\n",
      "2 cpu\tto cpu\n",
      "3 cpu\tto cpu\n",
      "4 cpu\tto cpu\n",
      "5 cpu\tto cpu\n",
      "6 cpu\tto cpu\n",
      "7 cpu\tto cpu\n",
      "8 cpu\tto cpu\n",
      "9 cpu\tto cpu\n"
     ]
    }
   ],
   "source": [
    "PATH_SAVE = './Models_out/GINE_str1-ERM-80epo-0708v3_2/'\n",
    "cv_log = ERM_cv_log_str1\n",
    "mdl_list = ERM_model_list_str1\n",
    "#################################\n",
    "if not os.path.exists(PATH_SAVE):\n",
    "    os.makedirs(PATH_SAVE)\n",
    "mdlsave = modisiR_GINE()\n",
    "save_state_dict_2cpu(PATH_SAVE,mdl_list,mdlsave)\n",
    "######\n",
    "cv_log.to_pickle(PATH_SAVE+'/df_cv_log.pickle')"
   ]
  },
  {
   "cell_type": "markdown",
   "id": "8bc01fc9-15ac-4169-992e-6675f1a6d24b",
   "metadata": {},
   "source": [
    "---"
   ]
  },
  {
   "cell_type": "code",
   "execution_count": 181,
   "id": "466dfd1b-0e2d-4ed6-b14e-0a1e8a0c8b28",
   "metadata": {},
   "outputs": [],
   "source": [
    "colors = {'b4':'#060666', 'b3':'#186898', 'b2':'#96BCCB', 'b1':'#DDF0FF', \n",
    "          'pearl':'#F0F2F0', \n",
    "          'y1':'#FFF0DD', 'y2':'#F2C892', 'y3':'#F88808', 'y4':'#960606'}"
   ]
  },
  {
   "cell_type": "markdown",
   "id": "ff5bab68-e3bb-4c02-8070-accb8a781f33",
   "metadata": {},
   "source": [
    "## Loss"
   ]
  },
  {
   "cell_type": "code",
   "execution_count": null,
   "id": "fcf7cd19-5d5f-446b-9ff8-f17afa10b678",
   "metadata": {
    "tags": []
   },
   "outputs": [],
   "source": [
    "def loss_plot(data1,data2,save_name=None):\n",
    "    x = np.linspace(1,80,80)\n",
    "    # 创建画布和坐标轴\n",
    "    fig, ax = plt.subplots(figsize=(5, 4))\n",
    "\n",
    "    # 绘制所有原始曲线\n",
    "    for y in data1:\n",
    "        ax.plot(x, y, color=colors['b2'], alpha=0.6, linewidth=1, label='Individual_Train' if not ax.lines else \"\")\n",
    "\n",
    "    # 计算并绘制平均值曲线\n",
    "    mean_curve = np.mean(data1, axis=0)\n",
    "    ax.plot(x, mean_curve, color=colors['b3'], linewidth=2, label=\"Average_Train\", zorder=10)\n",
    "\n",
    "    # 绘制所有原始曲线\n",
    "    for y in data2[:-1]:\n",
    "        ax.plot(x, y, color=colors['y2'], alpha=0.6, linewidth=1, label='Individual_Validate' if not ax.lines else \"\")\n",
    "    ax.plot(x, data2[-1], color=colors['y2'], alpha=0.6, linewidth=1, label='Individual_Validate')\n",
    "\n",
    "    # 计算并绘制平均值曲线\n",
    "    mean_curve = np.mean(data2, axis=0)\n",
    "    ax.plot(x, mean_curve, color=colors['y3'], linewidth=2, label=\"Average_Validate\", zorder=10)\n",
    "\n",
    "    # 美化图形\n",
    "    #ax.set_title(title, fontsize=14)\n",
    "    ax.set_xlabel('Epochs')\n",
    "    ax.set_ylabel('Loss')\n",
    "    ax.grid(True, alpha=0.3)\n",
    "    ax.legend()\n",
    "    if save_name!=None:\n",
    "        plt.savefig(save_name+'loss_plot.pdf',  bbox_inches='tight', dpi=300)\n",
    "    plt.tight_layout()\n",
    "    plt.show()"
   ]
  },
  {
   "cell_type": "code",
   "execution_count": null,
   "id": "767e0c91-5347-4be8-b297-3ad5bb192688",
   "metadata": {},
   "outputs": [],
   "source": [
    "SAVE_PATH = '../DATA/GINE_ERM/'\n",
    "\n",
    "loss_plot(ERM_cv_log.swaplevel(axis=1)['loss_train'].to_numpy().swapaxes(0,1),\n",
    "          ERM_cv_log.swaplevel(axis=1)['loss_val'].to_numpy().swapaxes(0,1)\n",
    "         ,SAVE_PATH)"
   ]
  },
  {
   "cell_type": "markdown",
   "id": "19c83187-49d5-4f22-a226-17a0a700ce5b",
   "metadata": {},
   "source": [
    "## PCC"
   ]
  },
  {
   "cell_type": "code",
   "execution_count": null,
   "id": "f5f1dc74-5c82-4f5d-a258-19df7a1647e0",
   "metadata": {},
   "outputs": [],
   "source": [
    "from scipy.stats import pearsonr\n",
    "\n",
    "def GINE_pred(model,dataload_zip):\n",
    "    model.eval()\n",
    "    y_lbl = []\n",
    "    y_pred = []\n",
    "    with torch.no_grad():\n",
    "        for data_triple in dataload_zip:\n",
    "\n",
    "            sense_gbatch = data_triple[0]\n",
    "            antis_gbatch = data_triple[1]\n",
    "            nongrf_batch = data_triple[2][1]\n",
    "            \n",
    "            y_batch_pred = model(sense_gbatch,antis_gbatch,nongrf_batch)\n",
    "            y_batch_lbl = data_triple[2][2].to(torch.float32)\n",
    "            y_lbl.extend(y_batch_lbl.cpu().numpy())\n",
    "            y_pred.extend(y_batch_pred.cpu().numpy())\n",
    "    y_lbl = np.array(y_lbl)\n",
    "    y_pred = np.array(y_pred)\n",
    "    return y_pred,y_lbl\n",
    "\n",
    "def cvmodel_pred_GINE(model_list,dataload_test_zip):\n",
    "    ls_y_pred = []\n",
    "    for model in model_list:\n",
    "        print('*')\n",
    "        y_pred_TEST = GINE_pred(model,dataload_test_zip)[0]\n",
    "        ls_y_pred.append(y_pred_TEST)\n",
    "    return ls_y_pred\n",
    "\n",
    "def PCC(true,pred,size=(4,4),save_name=None):\n",
    "    # 计算皮尔逊相关系数\n",
    "    r, p_value = pearsonr(true, pred)\n",
    "    print(r,p_value)\n",
    "\n",
    "    # 创建图表\n",
    "    plt.figure(figsize=size)\n",
    "    plt.scatter(true, pred, s=15, color=colors['b3'] ,alpha=0.5, label='Data Points')  # 散点图\n",
    "\n",
    "    # 添加y=x参考线\n",
    "    min_val = min(true.min(), pred.min())\n",
    "    max_val = max(true.max(), pred.max())\n",
    "    plt.plot([min_val, max_val], [min_val, max_val], 'k--', linewidth=2, label='y = x')\n",
    "    \n",
    "    # 添加最佳拟合线\n",
    "    slope, intercept = np.polyfit(true, pred, 1)\n",
    "    fit_x = np.linspace(min(true), max(true), 100)\n",
    "    fit_y = slope * fit_x + intercept\n",
    "    plt.plot(fit_x, fit_y, color=colors['y3'],linewidth=3, label='Best Fit Line')\n",
    "\n",
    "    # 标注相关系数\n",
    "    text_str = f'r = {r.item():.3f}'\n",
    "    plt.text(0.04, 0.95, text_str, transform=plt.gca().transAxes,\n",
    "             fontsize=12, verticalalignment='top', bbox=dict(facecolor='white', alpha=0.8))\n",
    "\n",
    "    # 设置图表属性\n",
    "    plt.xlabel('True mRNA_remains %')\n",
    "    plt.ylabel('Predicted mRNA_remains %')\n",
    "    #plt.title('True vs. Predicted Values with Pearson Correlation')\n",
    "    #plt.legend()\n",
    "    plt.grid(True, linestyle='--', alpha=0.7)\n",
    "    plt.tight_layout()\n",
    "    \n",
    "    if save_name!=None:\n",
    "        plt.savefig(save_name+'.pdf', bbox_inches='tight', dpi=300)\n",
    "\n",
    "    # 显示图表\n",
    "    plt.show()"
   ]
  },
  {
   "cell_type": "code",
   "execution_count": null,
   "id": "0d48c2c8-e126-4ad3-974d-dc593de859ae",
   "metadata": {},
   "outputs": [],
   "source": [
    "ls_models_for_PCC = []\n",
    "for i in ERM_model_list:\n",
    "    model = modisiR_GINE(node_xlen=43,edge_xlen=1,dim_h=64)\n",
    "    model.load_state_dict(i)\n",
    "    ls_models_for_PCC.append(model)"
   ]
  },
  {
   "cell_type": "code",
   "execution_count": null,
   "id": "0ce98f53-c729-43b1-88e1-38b36f4b8dc2",
   "metadata": {},
   "outputs": [],
   "source": [
    "SAVE_PATH = '../DATA/GINE_ERM/'\n",
    "y_true_IID = GINE_pred(ls_models_for_PCC[0],dataload_TEST_IID_zip)[1]\n",
    "ls_y_pred_IID_ERM = cvmodel_pred_GINE(ls_models_for_PCC,dataload_TEST_IID_zip)\n",
    "mean_y_pred_IID_ERM = np.mean(np.stack(ls_y_pred_IID_ERM),axis=0)\n",
    "print(mean_y_pred_IID_ERM.shape)\n",
    "\n",
    "PCC(y_true_IID,\n",
    "    mean_y_pred_IID_ERM,\n",
    "    (5,4)\n",
    "   ,SAVE_PATH+'PCC_IID')"
   ]
  },
  {
   "cell_type": "code",
   "execution_count": null,
   "id": "2d748452-a020-4dca-bef5-de8c247cf892",
   "metadata": {},
   "outputs": [],
   "source": [
    "SAVE_PATH = '../DATA/GINE_ERM/'\n",
    "y_true_OOD = GINE_pred(ls_models_for_PCC[0],dataload_TEST_OOD_zip)[1]\n",
    "ls_y_pred_OOD_ERM = cvmodel_pred_GINE(ls_models_for_PCC,dataload_TEST_OOD_zip)\n",
    "mean_y_pred_OOD_ERM = np.mean(np.stack(ls_y_pred_OOD_ERM),axis=0)\n",
    "print(mean_y_pred_OOD_ERM.shape)\n",
    "\n",
    "PCC(y_true_OOD,\n",
    "    mean_y_pred_OOD_ERM,\n",
    "    (5,4)\n",
    "   ,SAVE_PATH+'PCC_OOD')"
   ]
  },
  {
   "cell_type": "markdown",
   "id": "cd43bf17-fac2-466b-a8d3-3c6e2c17f379",
   "metadata": {},
   "source": [
    "## scores"
   ]
  },
  {
   "cell_type": "code",
   "execution_count": null,
   "id": "0af4fc18-32f2-4170-ac6d-5709d4e33563",
   "metadata": {},
   "outputs": [],
   "source": [
    "from sklearn.metrics import roc_curve, auc\n",
    "\n",
    "def models_scores(y_true_np,y_preds_np,threshold=30):\n",
    "    score_list = []\n",
    "    for y_pred in y_preds_np:\n",
    "        \n",
    "        y_true = y_true_np.clip(0,100)\n",
    "        y_pred = y_pred.clip(0,100)\n",
    "        \n",
    "        mae = np.mean(np.abs(y_true - y_pred))\n",
    "        \n",
    "        # 将实际值和预测值转换为二进制分类（低于阈值为1，高于或等于阈值为0）\n",
    "        y_true_binary = (y_true < threshold).astype(int)\n",
    "        y_pred_binary = (y_pred < threshold).astype(int)\n",
    "        \n",
    "        # 创建掩码，用于筛选预测值在0和阈值之间的样本\n",
    "        mask = (y_pred >= 0) & (y_pred <= threshold)\n",
    "        range_mae = mean_absolute_error(y_true[mask], y_pred[mask]) if mask.sum() > 0 else 100\n",
    "        \n",
    "        # 计算精确度、召回率和F1得分\n",
    "        precision = precision_score(y_true_binary, y_pred_binary, average='binary')\n",
    "        recall = recall_score(y_true_binary, y_pred_binary, average='binary')\n",
    "        f1 = 2 * precision * recall / (precision + recall)\n",
    "        \n",
    "        # ROC & AUC\n",
    "        fpr, tpr, thresholds = roc_curve(y_true_binary, 1-y_pred/100)\n",
    "        roc_auc = auc(fpr, tpr)\n",
    "        \n",
    "        # 计算综合评分\n",
    "        score = (1 - mae / 100) * 0.5 + (1 - range_mae / 100) * f1 * 0.5\n",
    "\n",
    "        #warnings.filterwarnings(\"default\")\n",
    "        score_list.append((score,precision,recall,f1,roc_auc))\n",
    "    df_score_list = pd.DataFrame(score_list)\n",
    "    df_score_list.columns = ['Score','Precision','Recall','F1','AUC']\n",
    "    return df_score_list\n",
    "\n",
    "\n",
    "def scores_bar(df_scores,ylim=(0,1.05),save_name=None):\n",
    "    score_labels = df_scores.columns\n",
    "    # 计算均值和标准差\n",
    "    means = df_scores.mean()\n",
    "    stds = df_scores.std()\n",
    "    maxes = df_scores.max()\n",
    "\n",
    "    # 创建条形图\n",
    "    plt.figure(figsize=(5, 4))\n",
    "    bars = plt.bar(\n",
    "        score_labels,\n",
    "        means,\n",
    "        yerr=stds,  # 添加误差条（标准差）\n",
    "        capsize=10,  # 误差条顶部横线长度\n",
    "        color=[colors['b2'],colors['b2'],colors['b2'],colors['b2'],colors['b2']],\n",
    "        edgecolor=[colors['b3'],colors['b3'],colors['b3'],colors['b3'],colors['b3']]\n",
    "    )\n",
    "\n",
    "    # 叠加散点图\n",
    "    for i in range(len(score_labels)):\n",
    "        x = np.random.normal(i, 0.02, size=len(df_scores[score_labels[i]]))  # 添加轻微抖动避免点重叠\n",
    "        plt.scatter(x, df_scores[score_labels[i]], s=15,color=colors['b3'], alpha=0.6, label=score_labels[i])\n",
    "\n",
    "\n",
    "    # 在条形顶部标注均值\n",
    "    for bar, mean, max_ in zip(bars, means, maxes):\n",
    "        plt.text(\n",
    "            bar.get_x() + bar.get_width() / 2,\n",
    "            max_+0.01,\n",
    "            f'{mean:.2f}',\n",
    "            ha='center',\n",
    "            va='bottom'\n",
    "        )\n",
    "\n",
    "    # 添加标题和标签\n",
    "    #plt.title('Model Performance (10-Fold CV)')\n",
    "    plt.ylabel('Mean ± STD')\n",
    "    plt.ylim(ylim[0], ylim[1])  # 根据实际分数范围调整\n",
    "    plt.grid(axis='y', linestyle='--', alpha=0.7)\n",
    "    if save_name!=None:\n",
    "        plt.savefig(save_name+'scores.pdf', bbox_inches='tight', dpi=300)\n",
    "    plt.show()"
   ]
  },
  {
   "cell_type": "code",
   "execution_count": null,
   "id": "8c839eec-dcc9-4900-b137-950bfce441ec",
   "metadata": {},
   "outputs": [],
   "source": [
    "df_scores_IID = models_scores(y_true_IID,np.stack(ls_y_pred_IID_ERM))\n",
    "df_scores_IID"
   ]
  },
  {
   "cell_type": "code",
   "execution_count": null,
   "id": "5c62a6bf-795e-46c1-b514-2e20616e26f8",
   "metadata": {},
   "outputs": [],
   "source": [
    "SAVE_PATH = '../DATA/GINE_ERM/IID_'\n",
    "scores_bar(df_scores_IID,save_name=SAVE_PATH)"
   ]
  },
  {
   "cell_type": "code",
   "execution_count": null,
   "id": "799d7620-41d2-45fd-ac87-8d6c36e92852",
   "metadata": {},
   "outputs": [],
   "source": [
    "df_scores_OOD = models_scores(y_true_OOD,np.stack(ls_y_pred_OOD_ERM))\n",
    "SAVE_PATH = '../DATA/GINE_ERM/OOD_'\n",
    "scores_bar(df_scores_OOD,save_name=SAVE_PATH)"
   ]
  },
  {
   "cell_type": "markdown",
   "id": "d9be1c5c-374a-4c30-ae4c-8615c266d5c4",
   "metadata": {},
   "source": [
    "## ROC"
   ]
  },
  {
   "cell_type": "code",
   "execution_count": null,
   "id": "b4b9fe46-ecc2-4898-9b76-69cc5234f4a5",
   "metadata": {},
   "outputs": [],
   "source": [
    "def roc_auc(y_true,y_pred,threshold=30,size=(5,4),save_name=None):\n",
    "    y_true = y_true.clip(0,100)\n",
    "    y_pred = y_pred.clip(0,100)\n",
    "    \n",
    "    # 将实际值和预测值转换为二进制分类（低于阈值为1，高于或等于阈值为0）\n",
    "    y_true_binary = (y_true < threshold).astype(int)\n",
    "    y_pred_binary = (y_pred < threshold).astype(int)\n",
    "    \n",
    "    # ROC & AUC\n",
    "    fpr, tpr, thresholds = roc_curve(y_true_binary, 1-y_pred/100)\n",
    "    roc_auc = auc(fpr, tpr)\n",
    "    \n",
    "    fig, ax = plt.subplots(figsize=size)\n",
    "    \n",
    "    ax.plot(fpr, tpr, color=colors['y3'], lw=2, label='ROC curve (area = %0.2f)' % roc_auc)    \n",
    "    ax.fill_between(fpr, tpr, 0, where=(tpr > 0), color=colors['y2'], alpha=0.3, interpolate=True)\n",
    "    ax.plot([0, 1], [0, 1], color='grey', lw=2, linestyle='--')\n",
    "    ax.set_xlim([0.0, 1.0])\n",
    "    ax.set_ylim([0.0, 1.05])\n",
    "    \n",
    "    ax.set_xlabel('False Positive Rate')\n",
    "    ax.set_ylabel('True Positive Rate')\n",
    "    ax.grid(True, alpha=0.3)\n",
    "    ax.legend(loc=\"lower right\")\n",
    "    \n",
    "    if save_name!=None:\n",
    "        plt.savefig(save_name+'ROC.pdf', bbox_inches='tight', dpi=300)\n",
    "    \n",
    "    return roc_auc"
   ]
  },
  {
   "cell_type": "code",
   "execution_count": null,
   "id": "dba1a74b-e57d-465f-a328-44970e2bcdf1",
   "metadata": {},
   "outputs": [],
   "source": [
    "roc_auc(y_true_IID,mean_y_pred_IID_ERM,\n",
    "        size=(5,4)\n",
    "       ,save_name='../DATA/GINE_ERM/IID_')"
   ]
  },
  {
   "cell_type": "code",
   "execution_count": null,
   "id": "b219321b-408c-4be0-8603-d8f84c5ce51b",
   "metadata": {},
   "outputs": [],
   "source": [
    "roc_auc(y_true_OOD,mean_y_pred_OOD_ERM,\n",
    "        size=(5,4)\n",
    "       ,save_name='../DATA/GINE_ERM/OOD_')"
   ]
  }
 ],
 "metadata": {
  "kernelspec": {
   "display_name": "fishr",
   "language": "python",
   "name": "fishr"
  },
  "language_info": {
   "codemirror_mode": {
    "name": "ipython",
    "version": 3
   },
   "file_extension": ".py",
   "mimetype": "text/x-python",
   "name": "python",
   "nbconvert_exporter": "python",
   "pygments_lexer": "ipython3",
   "version": "3.9.21"
  }
 },
 "nbformat": 4,
 "nbformat_minor": 5
}
